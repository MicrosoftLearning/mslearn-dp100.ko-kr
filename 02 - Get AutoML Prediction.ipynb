{
  "cells": [
    {
      "cell_type": "markdown",
      "source": [
        "# 자동화된 ML 엔드포인트에서 당뇨병 예측 결과 가져오기\n",
        "\r\n",
        "**auto-predict-diabetes** 서비스에 ***ENDPOINT*** 및 ***PRIMARY_KEY***를 사용하도록 아래 셀의 코드를 수정합니다. 그런 다음 셀을 실행하여 새 환자 데이터를 제출하고 예측된 분류를 검색합니다. "
      ],
      "metadata": {
        "nteract": {
          "transient": {
            "deleting": false
          }
        }
      }
    },
    {
      "cell_type": "code",
      "source": [
        "endpoint = 'ENDPOINT' #Replace with your endpoint\r\n",
        "key = 'PRIMARY_KEY' #Replace with your key\r\n",
        "\r\n",
        "import json\r\n",
        "import requests\r\n",
        "\r\n",
        "#Features for a patient\r\n",
        "x = [{\"PatientID\": 1,\r\n",
        "      \"Pregnancies\": 5,\r\n",
        "      \"PlasmaGlucose\": 181.0,\r\n",
        "      \"DiastolicBloodPressure\": 90.6,\r\n",
        "      \"TricepsThickness\": 34.0,\r\n",
        "      \"SerumInsulin\": 23.0,\r\n",
        "      \"BMI\": 43.51,\r\n",
        "      \"DiabetesPedigree\": 1.21,\r\n",
        "      \"Age\": 21.0}]\r\n",
        "\r\n",
        "#Create a \"data\" JSON object\r\n",
        "input_json = json.dumps({\"data\": x})\r\n",
        "\r\n",
        "#Set the content type and authentication for the request\r\n",
        "headers = {\"Content-Type\":\"application/json\",\r\n",
        "           \"Authorization\":\"Bearer \" + key}\r\n",
        "\r\n",
        "#Send the request\r\n",
        "response = requests.post(endpoint, input_json, headers=headers)\r\n",
        "\r\n",
        "#If we got a valid response, display the predictions\r\n",
        "if response.status_code == 200:\r\n",
        "    y = json.loads(response.json())\r\n",
        "    #Get the first prediction in the results\r\n",
        "    print(\"Prediction:\", y[\"result\"][0])\r\n",
        "    if y[\"result\"][0] == 1:\r\n",
        "        print('Diabetic')\r\n",
        "    else:\r\n",
        "        print(\"Not Diabetic\")\r\n",
        "else:\r\n",
        "    print(response)"
      ],
      "outputs": [],
      "execution_count": null,
      "metadata": {
        "gather": {
          "logged": 1604605071290
        }
      }
    }
  ],
  "metadata": {
    "kernelspec": {
      "name": "python3-azureml",
      "language": "python",
      "display_name": "Python 3.6 - AzureML"
    },
    "language_info": {
      "name": "python",
      "version": "3.6.9",
      "mimetype": "text/x-python",
      "codemirror_mode": {
        "name": "ipython",
        "version": 3
      },
      "pygments_lexer": "ipython3",
      "nbconvert_exporter": "python",
      "file_extension": ".py"
    },
    "kernel_info": {
      "name": "python3-azureml"
    },
    "nteract": {
      "version": "nteract-front-end@1.0.0"
    }
  },
  "nbformat": 4,
  "nbformat_minor": 2
}