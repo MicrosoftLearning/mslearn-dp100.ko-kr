{
 "cells": [
  {
   "cell_type": "markdown",
   "source": [
   "# 실시간 유추 서비스 만들기\r\n",
    "\r\n",
   "학습시킨 예측 모델은 클라이언트가 새 데이터에서 예측 정보를 가져오는 데 사용할 수 있는 실시간 서비스로 배포할 수 있습니다."
   ],
   "metadata": {}
  },
  {
   "cell_type": "markdown",
   "source": [
   "## 작업 영역에 연결\r\n",
    "\r\n",
   "이 Notebook의 작업을 시작하려면 먼저 작업 영역에 연결합니다.\r\n",
    "\r\n",
   "> **참고**: Azure 구독에 인증된 세션을 아직 설정하지 않은 경우에는 링크를 클릭하고 인증 코드를 입력한 다음 Azure에 로그인하여 인증하라는 메시지가 표시됩니다."
   ],
   "metadata": {}
  },
  {
   "cell_type": "code",
   "execution_count": null,
   "source": [
    "import azureml.core\n",
    "from azureml.core import Workspace\n",
    "\n",
    "# Load the workspace from the saved config file\n",
    "ws = Workspace.from_config()\n",
    "print('Ready to use Azure ML {} to work with {}'.format(azureml.core.VERSION, ws.name))"
   ],
   "outputs": [],
   "metadata": {}
  },
  {
   "cell_type": "markdown",
   "source": [
   "## 모델 학습 및 등록\r\n",
    "\r\n",
   "이제 모델 학습과 등록을 진행하겠습니다."
   ],
   "metadata": {}
  },
  {
   "cell_type": "code",
   "execution_count": null,
   "source": [
    "from azureml.core import Experiment\n",
    "from azureml.core import Model\n",
    "import pandas as pd\n",
    "import numpy as np\n",
    "import joblib\n",
    "from sklearn.model_selection import train_test_split\n",
    "from sklearn.tree import DecisionTreeClassifier\n",
    "from sklearn.metrics import roc_auc_score\n",
    "from sklearn.metrics import roc_curve\n",
    "\n",
    "# Create an Azure ML experiment in your workspace\n",
    "experiment = Experiment(workspace=ws, name=\"mslearn-train-diabetes\")\n",
    "run = experiment.start_logging()\n",
    "print(\"Starting experiment:\", experiment.name)\n",
    "\n",
    "# load the diabetes dataset\n",
    "print(\"Loading Data...\")\n",
    "diabetes = pd.read_csv('data/diabetes.csv')\n",
    "\n",
    "# Separate features and labels\n",
    "X, y = diabetes[['Pregnancies','PlasmaGlucose','DiastolicBloodPressure','TricepsThickness','SerumInsulin','BMI','DiabetesPedigree','Age']].values, diabetes['Diabetic'].values\n",
    "\n",
    "# Split data into training set and test set\n",
    "X_train, X_test, y_train, y_test = train_test_split(X, y, test_size=0.30, random_state=0)\n",
    "\n",
    "# Train a decision tree model\n",
    "print('Training a decision tree model')\n",
    "model = DecisionTreeClassifier().fit(X_train, y_train)\n",
    "\n",
    "# calculate accuracy\n",
    "y_hat = model.predict(X_test)\n",
    "acc = np.average(y_hat == y_test)\n",
    "print('Accuracy:', acc)\n",
    "run.log('Accuracy', np.float(acc))\n",
    "\n",
    "# calculate AUC\n",
    "y_scores = model.predict_proba(X_test)\n",
    "auc = roc_auc_score(y_test,y_scores[:,1])\n",
    "print('AUC: ' + str(auc))\n",
    "run.log('AUC', np.float(auc))\n",
    "\n",
    "# Save the trained model\n",
    "model_file = 'diabetes_model.pkl'\n",
    "joblib.dump(value=model, filename=model_file)\n",
    "run.upload_file(name = 'outputs/' + model_file, path_or_stream = './' + model_file)\n",
    "\n",
    "# Complete the run\n",
    "run.complete()\n",
    "\n",
    "# Register the model\n",
    "run.register_model(model_path='outputs/diabetes_model.pkl', model_name='diabetes_model',\n",
    "                   tags={'Training context':'Inline Training'},\n",
    "                   properties={'AUC': run.get_metrics()['AUC'], 'Accuracy': run.get_metrics()['Accuracy']})\n",
    "\n",
    "print('Model trained and registered.')"
   ],
   "outputs": [],
   "metadata": {}
  },
  {
   "cell_type": "markdown",
   "source": [
   "## 모델을 웹 서비스로 배포\r\n",
    "\r\n",
   "당뇨 환자일 가능성을 기준으로 환자를 분류하는 기계 학습 모델의 학습과 등록을 완료했습니다. 프로덕션 환경에서는 당뇨 의심 환자만 당뇨 임상 시험 대상으로 지정해야 하는 수술 등에 이 모델을 사용할 수 있습니다. 이 시나리오를 지원하려는 경우 웹 서비스로 모델을 배포합니다.\r\n",
    "\r\n",
   "먼저 작업 영역에 등록한 모델을 확인해 보겠습니다."
   ],
   "metadata": {}
  },
  {
   "cell_type": "code",
   "execution_count": null,
   "source": [
    "from azureml.core import Model\n",
    "\n",
    "for model in Model.list(ws):\n",
    "    print(model.name, 'version:', model.version)\n",
    "    for tag_name in model.tags:\n",
    "        tag = model.tags[tag_name]\n",
    "        print ('\\t',tag_name, ':', tag)\n",
    "    for prop_name in model.properties:\n",
    "        prop = model.properties[prop_name]\n",
    "        print ('\\t',prop_name, ':', prop)\n",
    "    print('\\n')"
   ],
   "outputs": [],
   "metadata": {}
  },
  {
   "cell_type": "markdown",
   "source": [
   "이제 배포할 모델을 가져옵니다. 기본적으로는 모델 이름을 지정하면 최신 버전이 반환됩니다."
   ],
   "metadata": {}
  },
  {
   "cell_type": "code",
   "execution_count": null,
   "source": [
    "model = ws.models['diabetes_model']\n",
    "print(model.name, 'version', model.version)"
   ],
   "outputs": [],
   "metadata": {}
  },
  {
   "cell_type": "markdown",
   "source": [
   "이 모델을 호스트하는 웹 서비스를 만들려면 몇 가지 코드와 구성 파일이 필요합니다. 먼저 이러한 항목을 저장할 폴더를 만들겠습니다."
   ],
   "metadata": {}
  },
  {
   "cell_type": "code",
   "execution_count": null,
   "source": [
    "import os\n",
    "\n",
    "# Create a folder for the deployment files\n",
    "deployment_folder = './diabetes_service'\n",
    "os.makedirs(deployment_folder, exist_ok=True)\n",
    "print(deployment_folder, 'folder created.')\n",
    "\n",
    "# Set path for scoring script\n",
    "script_file = 'score_diabetes.py'\n",
    "script_path = os.path.join(deployment_folder,script_file)"
   ],
   "outputs": [],
   "metadata": {}
  },
  {
   "cell_type": "markdown",
   "source": [
   "모델을 배포하는 웹 서비스에는 입력 데이터를 로드하고, 작업 영역에서 모델을 가져오고, 예측을 생성/반환하기 위한 특정 Python 코드가 필요합니다. 이 코드는 웹 서비스에 배포될 *항목 스크립트*(*채점 스크립트*라고도 함)에 저장됩니다.\r\n",
    "\r\n",
   "스크립트는 두 함수로 구성됩니다.\r\n",
    "\r\n",
   "- **init**: 이 함수는 서비스가 초기화되면 호출되며 일반적으로 모델을 로드하는 데 사용됩니다. 채점 스크립트는 **AZUREML_MODEL_DIR** 환경 변수를 사용하여 모델을 저장할 폴더를 결정합니다.\r\n",
   "- **run**: 이 함수는 클라이언트 애플리케이션에서 새 데이터를 제출할 때마다 호출되며 일반적으로 모델의 예측 사항을 유추하는 데 사용됩니다."
   ],
   "metadata": {}
  },
  {
   "cell_type": "code",
   "execution_count": null,
   "source": [
    "%%writefile $script_path\r\n",
    "import json\r\n",
    "import joblib\r\n",
    "import numpy as np\r\n",
    "import os\r\n",
    "\r\n",
    "# Called when the service is loaded\r\n",
    "def init():\r\n",
    "    global model\r\n",
    "    # Get the path to the deployed model file and load it\r\n",
    "    model_path = os.path.join(os.getenv('AZUREML_MODEL_DIR'), 'diabetes_model.pkl')\r\n",
    "    model = joblib.load(model_path)\r\n",
    "\r\n",
    "# Called when a request is received\r\n",
    "def run(raw_data):\r\n",
    "    # Get the input data as a numpy array\r\n",
    "    data = np.array(json.loads(raw_data)['data'])\r\n",
    "    # Get a prediction from the model\r\n",
    "    predictions = model.predict(data)\r\n",
    "    # Get the corresponding classname for each prediction (0 or 1)\r\n",
    "    classnames = ['not-diabetic', 'diabetic']\r\n",
    "    predicted_classes = []\r\n",
    "    for prediction in predictions:\r\n",
    "        predicted_classes.append(classnames[prediction])\r\n",
    "    # Return the predictions as JSON\r\n",
    "    return json.dumps(predicted_classes)"
   ],
   "outputs": [],
   "metadata": {}
  },
  {
   "cell_type": "markdown",
   "source": [
   "웹 서비스는 컨테이너에서 호스트되며, 이 컨테이너는 초기화 시에 필수 Python 종속성을 설치해야 합니다. 이 경우 채점 스크립트에는 **scikit-learn** 및 채점 웹 서비스에서 사용되는 일부 Azure Machine Learning 전용 패키지가 필요하기 때문에 이러한 항목이 포함된 환경을 만들어 보겠습니다. 그런 다음 해당 환경을 채점 스크립트와 함께 *유추 구성*에 추가하고 환경 및 스크립트가 호스트될 컨테이너에 대한 *배포 구성*을 정의해 보겠습니다.\r\n",
    "\r\n",
   "그러면 이러한 구성을 바탕으로 모델을 서비스로 배포할 수 있습니다.\r\n",
    "\r\n",
   "> **자세한 정보**: 모델 배포 및 대상 실행 환경용 옵션에 대한 자세한 내용은 [설명서](https://docs.microsoft.com/azure/machine-learning/how-to-deploy-and-where)를 참조하세요.\r\n",
    "\r\n",
   "배포에서는 컨테이너 이미지를 만드는 프로세스를 먼저 실행한 다음 해당 이미지를 기반으로 웹 서비스를 만드는 프로세스를 실행하므로 시간이 다소 걸릴 수 있습니다. 배포가 정상적으로 완료되면 **정상** 상태가 표시됩니다."
   ],
   "metadata": {}
  },
  {
   "cell_type": "code",
   "execution_count": null,
   "source": [
    "from azureml.core import Environment\r\n",
    "from azureml.core.model import InferenceConfig\r\n",
    "from azureml.core.webservice import AciWebservice\r\n",
    "\r\n",
    "# Configure the scoring environment\r\n",
    "service_env = Environment(name='service-env')\r\n",
    "python_packages = ['scikit-learn', 'azureml-defaults', 'azure-ml-api-sdk']\r\n",
    "for package in python_packages:\r\n",
    "    service_env.python.conda_dependencies.add_pip_package(package)\r\n",
    "inference_config = InferenceConfig(source_directory=deployment_folder,\r\n",
    "                                   entry_script=script_file,\r\n",
    "                                   environment=service_env)\r\n",
    "\r\n",
    "# Configure the web service container\r\n",
    "deployment_config = AciWebservice.deploy_configuration(cpu_cores=1, memory_gb=1)\r\n",
    "\r\n",
    "# Deploy the model as a service\r\n",
    "print('Deploying model...')\r\n",
    "service_name = \"diabetes-service\"\r\n",
    "service = Model.deploy(ws, service_name, [model], inference_config, deployment_config, overwrite=True)\r\n",
    "service.wait_for_deployment(True)\r\n",
    "print(service.state)"
   ],
   "outputs": [],
   "metadata": {}
  },
  {
   "cell_type": "markdown",
   "source": [
   "배포가 정상적으로 진행되었다면 **정상** 상태를 확인할 수 있습니다. 정상 상태가 표시되지 않으면 다음 코드를 사용하여 서비스 로그를 가져와 문제 해결 시에 참조할 수 있습니다."
   ],
   "metadata": {}
  },
  {
   "cell_type": "code",
   "execution_count": null,
   "source": [
    "print(service.get_logs())\r\n",
    "\r\n",
    "# If you need to make a change and redeploy, you may need to delete unhealthy service using the following code:\r\n",
    "#service.delete()"
   ],
   "outputs": [],
   "metadata": {
    "scrolled": true
   }
  },
  {
   "cell_type": "markdown",
   "source": [
   "[Azure Machine Learning Studio](https://ml.azure.com)의 작업 영역을 살펴보고 작업 영역에서 배포된 서비스가 표시되는 **엔드포인트** 페이지를 확인합니다.\r\n",
    "\r\n",
   "다음 코드를 실행하여 작업 영역에서 웹 서비스 이름을 검색할 수도 있습니다."
   ],
   "metadata": {}
  },
  {
   "cell_type": "code",
   "execution_count": null,
   "source": [
    "for webservice_name in ws.webservices:\r\n",
    "    print(webservice_name)"
   ],
   "outputs": [],
   "metadata": {}
  },
  {
   "cell_type": "markdown",
   "source": [
   "## 웹 서비스 사용\r\n",
    "\r\n",
   "배포한 서비스는 클라이언트 애플리케이션에서 사용할 수 있습니다."
   ],
   "metadata": {}
  },
  {
   "cell_type": "code",
   "execution_count": null,
   "source": [
    "import json\n",
    "\n",
    "x_new = [[2,180,74,24,21,23.9091702,1.488172308,22]]\n",
    "print ('Patient: {}'.format(x_new[0]))\n",
    "\n",
    "# Convert the array to a serializable list in a JSON document\n",
    "input_json = json.dumps({\"data\": x_new})\n",
    "\n",
    "# Call the web service, passing the input data (the web service will also accept the data in binary format)\n",
    "predictions = service.run(input_data = input_json)\n",
    "\n",
    "# Get the predicted class - it'll be the first (and only) one.\n",
    "predicted_classes = json.loads(predictions)\n",
    "print(predicted_classes[0])"
   ],
   "outputs": [],
   "metadata": {}
  },
  {
   "cell_type": "markdown",
   "source": [
   "여러 환자를 관찰한 정보를 서비스로 전송한 후 각 환자에 대한 예측을 다시 가져올 수도 있습니다."
   ],
   "metadata": {}
  },
  {
   "cell_type": "code",
   "execution_count": null,
   "source": [
    "import json\n",
    "\n",
    "# This time our input is an array of two feature arrays\n",
    "x_new = [[2,180,74,24,21,23.9091702,1.488172308,22],\n",
    "         [0,148,58,11,179,39.19207553,0.160829008,45]]\n",
    "\n",
    "# Convert the array or arrays to a serializable list in a JSON document\n",
    "input_json = json.dumps({\"data\": x_new})\n",
    "\n",
    "# Call the web service, passing the input data\n",
    "predictions = service.run(input_data = input_json)\n",
    "\n",
    "# Get the predicted classes.\n",
    "predicted_classes = json.loads(predictions)\n",
    "   \n",
    "for i in range(len(x_new)):\n",
    "    print (\"Patient {}\".format(x_new[i]), predicted_classes[i] )"
   ],
   "outputs": [],
   "metadata": {}
  },
  {
   "cell_type": "markdown",
   "source": [
   "위의 코드는 Azure Machine Learning SDK를 사용하여 컨테이너화된 웹 서비스에 연결한 다음 이 서비스를 사용하여 당뇨병 분류 모델에서 예측을 생성합니다. 프로덕션 환경에서는 Azure Machine Learning SDK를 사용하지 않으며 웹 서비스로의 HTTP 요청만 수행하는 비즈니스 애플리케이션이 모델을 사용할 가능성이 높습니다.\r\n",
    "\r\n",
   "이러한 애플리케이션이 요청을 제출해야 하는 URL을 확인해 보겠습니다."
   ],
   "metadata": {}
  },
  {
   "cell_type": "code",
   "execution_count": null,
   "source": [
    "endpoint = service.scoring_uri\n",
    "print(endpoint)"
   ],
   "outputs": [],
   "metadata": {}
  },
  {
   "cell_type": "markdown",
   "source": [
   "엔드포인트 URI가 확인되면 애플리케이션은 HTTP 요청을 수행하여 JSON 형식으로 환자 데이터를 전송한 다음 예측된 클래스를 다시 수신할 수 있습니다."
   ],
   "metadata": {}
  },
  {
   "cell_type": "code",
   "execution_count": null,
   "source": [
    "import requests\n",
    "import json\n",
    "\n",
    "x_new = [[2,180,74,24,21,23.9091702,1.488172308,22],\n",
    "         [0,148,58,11,179,39.19207553,0.160829008,45]]\n",
    "\n",
    "# Convert the array to a serializable list in a JSON document\n",
    "input_json = json.dumps({\"data\": x_new})\n",
    "\n",
    "# Set the content type\n",
    "headers = { 'Content-Type':'application/json' }\n",
    "\n",
    "predictions = requests.post(endpoint, input_json, headers = headers)\n",
    "predicted_classes = json.loads(predictions.json())\n",
    "\n",
    "for i in range(len(x_new)):\n",
    "    print (\"Patient {}\".format(x_new[i]), predicted_classes[i] )"
   ],
   "outputs": [],
   "metadata": {
    "scrolled": true
   }
  },
  {
   "cell_type": "markdown",
   "source": [
   "인증이 필요하지 않은 ACI(Azure Container Instance) 서비스로 웹 서비스를 배포했습니다. 개발 및 테스트 시에는 인증을 사용하지 않아도 되지만, 프로덕션 환경에서는 AKS(Azure Kubernetes Service) 클러스터에 서비스를 배포하고 토큰 기반 인증을 사용하도록 설정하는 것이 좋습니다. 이렇게 하려면 REST 요청에 **인증** 헤더를 포함해야 합니다.\r\n",
    "\r\n",
   "## 서비스 삭제\r\n",
    "\r\n",
   "더 이상 필요하지 않은 서비스는 불필요한 요금이 발생하지 않도록 삭제해야 합니다."
   ],
   "metadata": {}
  },
  {
   "cell_type": "code",
   "execution_count": null,
   "source": [
    "service.delete()\n",
    "print ('Service deleted.')"
   ],
   "outputs": [],
   "metadata": {}
  },
  {
   "cell_type": "markdown",
   "source": [
   "모델을 서비스로 게시하는 과정에 대한 자세한 내용은 [설명서](https://docs.microsoft.com/azure/machine-learning/how-to-deploy-and-where)를 참조하세요."
   ],
   "metadata": {}
  }
 ],
 "metadata": {
  "kernelspec": {
   "display_name": "Python 3.6 - AzureML",
   "language": "python",
   "name": "python3-azureml"
  },
  "language_info": {
   "codemirror_mode": {
    "name": "ipython",
    "version": 3
   },
   "file_extension": ".py",
   "mimetype": "text/x-python",
   "name": "python",
   "nbconvert_exporter": "python",
   "pygments_lexer": "ipython3",
   "version": "3.6.9"
  }
 },
 "nbformat": 4,
 "nbformat_minor": 2
}